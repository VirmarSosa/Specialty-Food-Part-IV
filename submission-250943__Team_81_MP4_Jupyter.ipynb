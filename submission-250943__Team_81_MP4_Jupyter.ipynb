{
  "metadata": {
    "c1_recart": "7.63.0-57c20131aabc1dc2a8c675852d80a7da",
    "celltoolbar": "Tags",
    "vscode": {
      "interpreter": {
        "hash": "15eb14ceb40cd276c3d2d597abf4d24bf92074ecf70bc096da2ec6c6670cfacc"
      }
    },
    "kernelspec": {
      "display_name": "SQLite",
      "language": "sql",
      "name": "SQLite"
    },
    "language_info": {
      "codemirror_mode": "sql",
      "file_extension": "",
      "mimetype": "",
      "name": "sql",
      "version": "3.32.3"
    }
  },
  "nbformat_minor": 4,
  "nbformat": 4,
  "cells": [
    {
      "cell_type": "markdown",
      "source": "# Mini Project 4: Specialty Foods Inc. - SQL Exercises",
      "metadata": {}
    },
    {
      "cell_type": "markdown",
      "source": "## Introduction\n\n**Business Context.** Specialty Foods Inc. is a food retailer focusing on the higher end of the market. You are a new member of the marketing team that was hired based on your data analytic skills. The company is interested in improving business results through more data-driven analysis and decision making. Traditionally the marketing department has launched campaigns to increase sales using qualitative analysis that has focused on previous experience and an understanding of the market. \nGiven your data analytic skills, your manager has asked you to help the marketing team by  gathering insights into the type of customers the company has and the products they buy. You are also asked to review past campaigns and suggest improvements for future marketing campaigns. In addition to gaining a better understanding of the business your analysis should result in specific recommendations on how the company can improve business results.\n\n**Objective:** The goal of this mini project 4 is to practice your SQL skills by querying and aggregating data. Additionally you will use Tableau to create professional data visualizations.\n\n**Analysis / Data Analytics:** For your analysis your team should begin by answering the questions below. However these questions are aimed only to get you started and practice your skills. You should consider further analysis and determine what additional questions will help in both understanding the business and making recommendations to improve the business’s results. ",
      "metadata": {}
    },
    {
      "cell_type": "markdown",
      "source": "### Tools used in this project\n\nSQL is a key tool used for data analysis. It is used for querying and accessing data, performing data cleaning, and analyzing data that is stored in databases. It performs some similar tasks that we have used Excel for but is a more powerful tool when manipulating larger datasets and provides some of the flexibility found in programming languages.\n\nTableau is a professional data visualization software that is widely used in industry. It is a great tool for storytelling with data. Once you are familiar with its functionality you should notice some similarities with Excel which will allow you to quickly get up to speed with the Tableau software. Use Tableau to create your charts similar to those in Excel for presenting your data insights and it can also be used for exploratory data analysis. ",
      "metadata": {}
    },
    {
      "cell_type": "markdown",
      "source": "## Overview of the data\n\nThe data for this case is contained in three separate tables which are extracts from the customer, sales, and marketing databases of the company and contain the information below:\n\n**Customer table includes the following information:**\n* **ID**: customer unique ID\n* **Income**: customer’s yearly household income\n* **Kids**: number of small children in the household\n* **Teens**: number of teenagers in the household\n* **Age**: age of customer\n* **Divorced**: 1 if the person is divorced, 0 otherwise\n* **Married**: 1 if the person is married, 0 otherwise\n* **Single**: 1 if the person is single, 0 otherwise\n* **Together**: 1 if the person is living with a partner, 0 otherwise\n* **Widowed**: 1 if the person is widowed, 0 otherwise\n* **Basic**: 1 if education is secondary level (high school), 0 otherwise\n* **Graduate**: 1 if education is university level, 0 otherwise\n* **Master**: 1 if education is masters level, 0 otherwise\n* **PhD**: 1 if education is doctorate level, 0 otherwise\n* **State**: US state of residency\n\n**Sales table includes the following information:**\n* **ID**: customer unique ID\n* **Recency**: days since last purchase\n* **Wines**: amount spent on wine\n* **Fruits**: amount spent on fruit\n* **Meats**: amount spent on meat\n* **Seafood**: amount spent on seafood\n* **Sweets**: amount spent on sweets\n* **Premium**: amount spent on premium products\n* **Regular**: amount spent on standard products\n* **Deals**: number of purchases made with a discount\n* **Web**: number of website purchases\n* **Catalog**: number of catalog purchases\n* **Store**: number of in-store purchases\n* **Days**: number of days since last purchase\n* **Visits**: number of website visits in past 3 months\n\n**Marketing table includes the following information:**\n* **ID**: customer unique ID\n* **MC3**: 1 if customer made a purchase based on Campaign 3, otherwise 0\n* **MC4**: 1 if customer made a purchase based on Campaign 4, otherwise 0\n* **MC5**: 1 if customer made a purchase based on Campaign 5, otherwise 0\n* **MC1**: 1 if customer made a purchase based on Campaign 1, otherwise 0\n* **MC2**: 1 if customer made a purchase based on Campaign 2, otherwise 0\n* **Complaint**: 1 if customer made a complaint in past year\n* **Pilot**: 1 if customer made a purchase based on a recent pilot marketing campaign for a new product, otherwise 0\n* **Enrollment**: date the customer enrolled with the company\n",
      "metadata": {}
    },
    {
      "cell_type": "markdown",
      "source": "### Your Task\n\nIn addition to brainstorming with your team members, you should discuss with your TAs and learn from other fellows to explore other techniques for using SQL and Tableau.\n\nFor your analysis your team should begin by answering the questions below. However these questions are aimed only to get you started and practice your skills. You should consider further analysis and determine what additional questions will help in both understanding the business and making recommendations to improve the business’s results. You can add cells to this jupyter notebook in order to run additional sql queries that can help you investigate the dataset and develop your analysis.",
      "metadata": {}
    },
    {
      "cell_type": "markdown",
      "source": "**Deliverables.**   \n\nPlace the code answers to the SQL questions in the Jupyter Notebook. Add as many additional code cells as you need in order to complete your analysis. Also include any written responses to the respective SQL questions, and the rationale for your additional SQL analyses in the Jupyter Notebook within a markdown (text) cell.  \n\nPlace the link(s) to your Tableau visualizations in a markdown cell at the end of the jupyter notebook.",
      "metadata": {}
    },
    {
      "cell_type": "markdown",
      "source": "### Getting Started\n\nWe will begin by loading a database containing Specialty Foods' customer, sales, and marketing data tables. These next two cells are not standard SQL, so just run them as is.",
      "metadata": {}
    },
    {
      "cell_type": "code",
      "source": "%FETCH https://amzn-dana.workspace-lite.correlation-one.com/case.sql_tableau_mini_project_fellow/files/data/specialtyfoods.db specialtyfoods",
      "metadata": {
        "trusted": true
      },
      "execution_count": 1,
      "outputs": [
        {
          "name": "stdout",
          "text": "Start downloading from URL https://amzn-dana.workspace-lite.correlation-one.com/case.sql_tableau_mini_project_fellow/files/data/specialtyfoods.db\nDownloading https://amzn-dana.workspace-lite.correlation-one.com/case.sql_tableau_mini_project_fellow/files/data/specialtyfoods.db 26% complete\nDownloading https://amzn-dana.workspace-lite.correlation-one.com/case.sql_tableau_mini_project_fellow/files/data/specialtyfoods.db 1e+02% complete\nFinished downloading 249856 bytes from URL https://amzn-dana.workspace-lite.correlation-one.com/case.sql_tableau_mini_project_fellow/files/data/specialtyfoods.db\nWriting downloaded data to file specialtyfoods\nFinished writing file\n",
          "output_type": "stream"
        }
      ]
    },
    {
      "cell_type": "code",
      "source": "%LOAD specialtyfoods RW",
      "metadata": {
        "trusted": true
      },
      "execution_count": 2,
      "outputs": []
    },
    {
      "cell_type": "markdown",
      "source": "Using our new database query the tables to understand what type of data is included in each table.",
      "metadata": {}
    },
    {
      "cell_type": "markdown",
      "source": "Let's query the customer table in our database like this:",
      "metadata": {}
    },
    {
      "cell_type": "code",
      "source": "SELECT * FROM customer LIMIT 5;",
      "metadata": {
        "trusted": true
      },
      "execution_count": 3,
      "outputs": [
        {
          "execution_count": 3,
          "output_type": "execute_result",
          "data": {
            "text/html": "<table>\n<tr>\n<th>ID</th>\n<th>Income</th>\n<th>Kids</th>\n<th>Teens</th>\n<th>Age</th>\n<th>Divorced</th>\n<th>Married</th>\n<th>Single</th>\n<th>Together</th>\n<th>Widow</th>\n<th>Basic</th>\n<th>Graduate</th>\n<th>Master</th>\n<th>PhD</th>\n<th>State</th>\n</tr>\n<tr>\n<td>2873</td>\n<td>213734</td>\n<td>0.0</td>\n<td>0.0</td>\n<td>75</td>\n<td>0</td>\n<td>0</td>\n<td>1</td>\n<td>0</td>\n<td>0</td>\n<td>0</td>\n<td>0</td>\n<td>0</td>\n<td>1</td>\n<td>State-California</td>\n</tr>\n<tr>\n<td>1629</td>\n<td>205471</td>\n<td>0.0</td>\n<td>0.0</td>\n<td>50</td>\n<td>0</td>\n<td>0</td>\n<td>0</td>\n<td>1</td>\n<td>0</td>\n<td>0</td>\n<td>1</td>\n<td>0</td>\n<td>0</td>\n<td>State-Texas</td>\n</tr>\n<tr>\n<td>1239</td>\n<td>202692</td>\n<td>0.0</td>\n<td>0.0</td>\n<td>46</td>\n<td>1</td>\n<td>0</td>\n<td>0</td>\n<td>0</td>\n<td>0</td>\n<td>0</td>\n<td>1</td>\n<td>0</td>\n<td>0</td>\n<td>State-Texas</td>\n</tr>\n<tr>\n<td>1191</td>\n<td>202160</td>\n<td>0.0</td>\n<td>0.0</td>\n<td>43</td>\n<td>0</td>\n<td>0</td>\n<td>0</td>\n<td>1</td>\n<td>0</td>\n<td>0</td>\n<td>0</td>\n<td>0</td>\n<td>1</td>\n<td>State-Texas</td>\n</tr>\n<tr>\n<td>1116</td>\n<td>201970</td>\n<td>0.0</td>\n<td>0.0</td>\n<td>37</td>\n<td>0</td>\n<td>0</td>\n<td>1</td>\n<td>0</td>\n<td>0</td>\n<td>0</td>\n<td>1</td>\n<td>0</td>\n<td>0</td>\n<td>State-Florida</td>\n</tr>\n</table>",
            "text/plain": "+------+--------+------+-------+-----+----------+---------+--------+----------+-------+-------+----------+--------+-----+------------------+\n| ID   | Income | Kids | Teens | Age | Divorced | Married | Single | Together | Widow | Basic | Graduate | Master | PhD | State            |\n+------+--------+------+-------+-----+----------+---------+--------+----------+-------+-------+----------+--------+-----+------------------+\n| 2873 | 213734 | 0.0  | 0.0   | 75  | 0        | 0       | 1      | 0        | 0     | 0     | 0        | 0      | 1   | State-California |\n+------+--------+------+-------+-----+----------+---------+--------+----------+-------+-------+----------+--------+-----+------------------+\n| 1629 | 205471 | 0.0  | 0.0   | 50  | 0        | 0       | 0      | 1        | 0     | 0     | 1        | 0      | 0   | State-Texas      |\n+------+--------+------+-------+-----+----------+---------+--------+----------+-------+-------+----------+--------+-----+------------------+\n| 1239 | 202692 | 0.0  | 0.0   | 46  | 1        | 0       | 0      | 0        | 0     | 0     | 1        | 0      | 0   | State-Texas      |\n+------+--------+------+-------+-----+----------+---------+--------+----------+-------+-------+----------+--------+-----+------------------+\n| 1191 | 202160 | 0.0  | 0.0   | 43  | 0        | 0       | 0      | 1        | 0     | 0     | 0        | 0      | 1   | State-Texas      |\n+------+--------+------+-------+-----+----------+---------+--------+----------+-------+-------+----------+--------+-----+------------------+\n| 1116 | 201970 | 0.0  | 0.0   | 37  | 0        | 0       | 1      | 0        | 0     | 0     | 1        | 0      | 0   | State-Florida    |\n+------+--------+------+-------+-----+----------+---------+--------+----------+-------+-------+----------+--------+-----+------------------+"
          },
          "metadata": {}
        }
      ]
    },
    {
      "cell_type": "code",
      "source": "SELECT * FROM customer LIMIT 5;",
      "metadata": {
        "trusted": true
      },
      "execution_count": 4,
      "outputs": [
        {
          "execution_count": 4,
          "output_type": "execute_result",
          "data": {
            "text/html": "<table>\n<tr>\n<th>ID</th>\n<th>Income</th>\n<th>Kids</th>\n<th>Teens</th>\n<th>Age</th>\n<th>Divorced</th>\n<th>Married</th>\n<th>Single</th>\n<th>Together</th>\n<th>Widow</th>\n<th>Basic</th>\n<th>Graduate</th>\n<th>Master</th>\n<th>PhD</th>\n<th>State</th>\n</tr>\n<tr>\n<td>2873</td>\n<td>213734</td>\n<td>0.0</td>\n<td>0.0</td>\n<td>75</td>\n<td>0</td>\n<td>0</td>\n<td>1</td>\n<td>0</td>\n<td>0</td>\n<td>0</td>\n<td>0</td>\n<td>0</td>\n<td>1</td>\n<td>State-California</td>\n</tr>\n<tr>\n<td>1629</td>\n<td>205471</td>\n<td>0.0</td>\n<td>0.0</td>\n<td>50</td>\n<td>0</td>\n<td>0</td>\n<td>0</td>\n<td>1</td>\n<td>0</td>\n<td>0</td>\n<td>1</td>\n<td>0</td>\n<td>0</td>\n<td>State-Texas</td>\n</tr>\n<tr>\n<td>1239</td>\n<td>202692</td>\n<td>0.0</td>\n<td>0.0</td>\n<td>46</td>\n<td>1</td>\n<td>0</td>\n<td>0</td>\n<td>0</td>\n<td>0</td>\n<td>0</td>\n<td>1</td>\n<td>0</td>\n<td>0</td>\n<td>State-Texas</td>\n</tr>\n<tr>\n<td>1191</td>\n<td>202160</td>\n<td>0.0</td>\n<td>0.0</td>\n<td>43</td>\n<td>0</td>\n<td>0</td>\n<td>0</td>\n<td>1</td>\n<td>0</td>\n<td>0</td>\n<td>0</td>\n<td>0</td>\n<td>1</td>\n<td>State-Texas</td>\n</tr>\n<tr>\n<td>1116</td>\n<td>201970</td>\n<td>0.0</td>\n<td>0.0</td>\n<td>37</td>\n<td>0</td>\n<td>0</td>\n<td>1</td>\n<td>0</td>\n<td>0</td>\n<td>0</td>\n<td>1</td>\n<td>0</td>\n<td>0</td>\n<td>State-Florida</td>\n</tr>\n</table>",
            "text/plain": "+------+--------+------+-------+-----+----------+---------+--------+----------+-------+-------+----------+--------+-----+------------------+\n| ID   | Income | Kids | Teens | Age | Divorced | Married | Single | Together | Widow | Basic | Graduate | Master | PhD | State            |\n+------+--------+------+-------+-----+----------+---------+--------+----------+-------+-------+----------+--------+-----+------------------+\n| 2873 | 213734 | 0.0  | 0.0   | 75  | 0        | 0       | 1      | 0        | 0     | 0     | 0        | 0      | 1   | State-California |\n+------+--------+------+-------+-----+----------+---------+--------+----------+-------+-------+----------+--------+-----+------------------+\n| 1629 | 205471 | 0.0  | 0.0   | 50  | 0        | 0       | 0      | 1        | 0     | 0     | 1        | 0      | 0   | State-Texas      |\n+------+--------+------+-------+-----+----------+---------+--------+----------+-------+-------+----------+--------+-----+------------------+\n| 1239 | 202692 | 0.0  | 0.0   | 46  | 1        | 0       | 0      | 0        | 0     | 0     | 1        | 0      | 0   | State-Texas      |\n+------+--------+------+-------+-----+----------+---------+--------+----------+-------+-------+----------+--------+-----+------------------+\n| 1191 | 202160 | 0.0  | 0.0   | 43  | 0        | 0       | 0      | 1        | 0     | 0     | 0        | 0      | 1   | State-Texas      |\n+------+--------+------+-------+-----+----------+---------+--------+----------+-------+-------+----------+--------+-----+------------------+\n| 1116 | 201970 | 0.0  | 0.0   | 37  | 0        | 0       | 1      | 0        | 0     | 0     | 1        | 0      | 0   | State-Florida    |\n+------+--------+------+-------+-----+----------+---------+--------+----------+-------+-------+----------+--------+-----+------------------+"
          },
          "metadata": {}
        }
      ]
    },
    {
      "cell_type": "markdown",
      "source": "### Exercise 1\n\nSimiarly, explore the marketing and sales tables.",
      "metadata": {}
    },
    {
      "cell_type": "code",
      "source": "SELECT * FROM marketing LIMIT 5;",
      "metadata": {
        "trusted": true
      },
      "execution_count": 5,
      "outputs": [
        {
          "execution_count": 5,
          "output_type": "execute_result",
          "data": {
            "text/html": "<table>\n<tr>\n<th>ID</th>\n<th>MC3</th>\n<th>MC4</th>\n<th>MC5</th>\n<th>MC1</th>\n<th>MC2</th>\n<th>Complaint</th>\n<th>Pilot</th>\n<th>Enrollment</th>\n</tr>\n<tr>\n<td>1188</td>\n<td>0</td>\n<td>1</td>\n<td>0</td>\n<td>0</td>\n<td>0</td>\n<td>0</td>\n<td>0</td>\n<td>12/3/2020</td>\n</tr>\n<tr>\n<td>1970</td>\n<td>0</td>\n<td>0</td>\n<td>0</td>\n<td>0</td>\n<td>0</td>\n<td>0</td>\n<td>0</td>\n<td>12/3/2020</td>\n</tr>\n<tr>\n<td>1043</td>\n<td>0</td>\n<td>0</td>\n<td>0</td>\n<td>0</td>\n<td>0</td>\n<td>0</td>\n<td>0</td>\n<td>12/2/2020</td>\n</tr>\n<tr>\n<td>1777</td>\n<td>0</td>\n<td>0</td>\n<td>0</td>\n<td>0</td>\n<td>0</td>\n<td>0</td>\n<td>0</td>\n<td>12/2/2020</td>\n</tr>\n<tr>\n<td>2787</td>\n<td>0</td>\n<td>0</td>\n<td>0</td>\n<td>1</td>\n<td>0</td>\n<td>0</td>\n<td>0</td>\n<td>12/2/2020</td>\n</tr>\n</table>",
            "text/plain": "+------+-----+-----+-----+-----+-----+-----------+-------+------------+\n| ID   | MC3 | MC4 | MC5 | MC1 | MC2 | Complaint | Pilot | Enrollment |\n+------+-----+-----+-----+-----+-----+-----------+-------+------------+\n| 1188 | 0   | 1   | 0   | 0   | 0   | 0         | 0     | 12/3/2020  |\n+------+-----+-----+-----+-----+-----+-----------+-------+------------+\n| 1970 | 0   | 0   | 0   | 0   | 0   | 0         | 0     | 12/3/2020  |\n+------+-----+-----+-----+-----+-----+-----------+-------+------------+\n| 1043 | 0   | 0   | 0   | 0   | 0   | 0         | 0     | 12/2/2020  |\n+------+-----+-----+-----+-----+-----+-----------+-------+------------+\n| 1777 | 0   | 0   | 0   | 0   | 0   | 0         | 0     | 12/2/2020  |\n+------+-----+-----+-----+-----+-----+-----------+-------+------------+\n| 2787 | 0   | 0   | 0   | 1   | 0   | 0         | 0     | 12/2/2020  |\n+------+-----+-----+-----+-----+-----+-----------+-------+------------+"
          },
          "metadata": {}
        }
      ]
    },
    {
      "cell_type": "code",
      "source": "SELECT * FROM sales LIMIT 5;",
      "metadata": {
        "trusted": true
      },
      "execution_count": 6,
      "outputs": [
        {
          "execution_count": 6,
          "output_type": "execute_result",
          "data": {
            "text/html": "<table>\n<tr>\n<th>ID</th>\n<th>Recency</th>\n<th>Wines</th>\n<th>Fruits</th>\n<th>Meats</th>\n<th>Seafood</th>\n<th>Sweets</th>\n<th>Premium</th>\n<th>Regular</th>\n<th>Deals</th>\n<th>Website</th>\n<th>Catalog</th>\n<th>Store</th>\n<th>Visits</th>\n</tr>\n<tr>\n<td>1428</td>\n<td>99</td>\n<td>0</td>\n<td>36</td>\n<td>18</td>\n<td>42</td>\n<td>36</td>\n<td>72</td>\n<td>60</td>\n<td>1</td>\n<td>1.0</td>\n<td>0.0</td>\n<td>3</td>\n<td>8</td>\n</tr>\n<tr>\n<td>2152</td>\n<td>99</td>\n<td>0</td>\n<td>36</td>\n<td>18</td>\n<td>42</td>\n<td>36</td>\n<td>72</td>\n<td>60</td>\n<td>1</td>\n<td>1.0</td>\n<td>0.0</td>\n<td>3</td>\n<td>8</td>\n</tr>\n<tr>\n<td>2014</td>\n<td>99</td>\n<td>21</td>\n<td>42</td>\n<td>55</td>\n<td>13</td>\n<td>34</td>\n<td>68</td>\n<td>97</td>\n<td>1</td>\n<td>1.0</td>\n<td>0.0</td>\n<td>3</td>\n<td>8</td>\n</tr>\n<tr>\n<td>2660</td>\n<td>99</td>\n<td>81</td>\n<td>0</td>\n<td>27</td>\n<td>0</td>\n<td>3</td>\n<td>13</td>\n<td>98</td>\n<td>1</td>\n<td>1.0</td>\n<td>0.0</td>\n<td>3</td>\n<td>5</td>\n</tr>\n<tr>\n<td>1196</td>\n<td>99</td>\n<td>175</td>\n<td>0</td>\n<td>23</td>\n<td>0</td>\n<td>0</td>\n<td>13</td>\n<td>184</td>\n<td>1</td>\n<td>2.0</td>\n<td>0.0</td>\n<td>3</td>\n<td>6</td>\n</tr>\n</table>",
            "text/plain": "+------+---------+-------+--------+-------+---------+--------+---------+---------+-------+---------+---------+-------+--------+\n| ID   | Recency | Wines | Fruits | Meats | Seafood | Sweets | Premium | Regular | Deals | Website | Catalog | Store | Visits |\n+------+---------+-------+--------+-------+---------+--------+---------+---------+-------+---------+---------+-------+--------+\n| 1428 | 99      | 0     | 36     | 18    | 42      | 36     | 72      | 60      | 1     | 1.0     | 0.0     | 3     | 8      |\n+------+---------+-------+--------+-------+---------+--------+---------+---------+-------+---------+---------+-------+--------+\n| 2152 | 99      | 0     | 36     | 18    | 42      | 36     | 72      | 60      | 1     | 1.0     | 0.0     | 3     | 8      |\n+------+---------+-------+--------+-------+---------+--------+---------+---------+-------+---------+---------+-------+--------+\n| 2014 | 99      | 21    | 42     | 55    | 13      | 34     | 68      | 97      | 1     | 1.0     | 0.0     | 3     | 8      |\n+------+---------+-------+--------+-------+---------+--------+---------+---------+-------+---------+---------+-------+--------+\n| 2660 | 99      | 81    | 0      | 27    | 0       | 3      | 13      | 98      | 1     | 1.0     | 0.0     | 3     | 5      |\n+------+---------+-------+--------+-------+---------+--------+---------+---------+-------+---------+---------+-------+--------+\n| 1196 | 99      | 175   | 0      | 23    | 0       | 0      | 13      | 184     | 1     | 2.0     | 0.0     | 3     | 6      |\n+------+---------+-------+--------+-------+---------+--------+---------+---------+-------+---------+---------+-------+--------+"
          },
          "metadata": {}
        }
      ]
    },
    {
      "cell_type": "markdown",
      "source": "Write a query to understand your data in the sales table. ",
      "metadata": {}
    },
    {
      "cell_type": "markdown",
      "source": "This query calculates the average amount spent on each product category:",
      "metadata": {
        "tags": [
          "ans_st"
        ]
      }
    },
    {
      "cell_type": "code",
      "source": "SELECT\n    ROUND(AVG(Wines), 2) AS Average_Wines,\n    ROUND(AVG(Fruits), 2) AS Average_Fruits,\n    ROUND(AVG(Meats), 2) AS Average_Meats,\n    ROUND(AVG(Seafood), 2) AS Average_Seafood,\n    ROUND(AVG(Sweets), 2) AS Average_Sweets\nFROM sales;",
      "metadata": {
        "trusted": true
      },
      "execution_count": 7,
      "outputs": [
        {
          "execution_count": 7,
          "output_type": "execute_result",
          "data": {
            "text/html": "<table>\n<tr>\n<th>Average_Wines</th>\n<th>Average_Fruits</th>\n<th>Average_Meats</th>\n<th>Average_Seafood</th>\n<th>Average_Sweets</th>\n</tr>\n<tr>\n<td>781.23</td>\n<td>69.43</td>\n<td>444.57</td>\n<td>99.08</td>\n<td>70.95</td>\n</tr>\n</table>",
            "text/plain": "+---------------+----------------+---------------+-----------------+----------------+\n| Average_Wines | Average_Fruits | Average_Meats | Average_Seafood | Average_Sweets |\n+---------------+----------------+---------------+-----------------+----------------+\n| 781.23        | 69.43          | 444.57        | 99.08           | 70.95          |\n+---------------+----------------+---------------+-----------------+----------------+"
          },
          "metadata": {}
        }
      ]
    },
    {
      "cell_type": "markdown",
      "source": "This query calculates the total amount spent on each product category:",
      "metadata": {}
    },
    {
      "cell_type": "code",
      "source": "SELECT\n    SUM(Wines) AS Total_Wines,\n    SUM(Fruits) AS Total_Fruits,\n    SUM(Meats) AS Total_Meats,\n    SUM(Seafood) AS Total_Seafood,\n    SUM(Sweets) AS Total_Sweets\nFROM sales;",
      "metadata": {
        "trusted": true
      },
      "execution_count": 8,
      "outputs": [
        {
          "execution_count": 8,
          "output_type": "execute_result",
          "data": {
            "text/html": "<table>\n<tr>\n<th>Total_Wines</th>\n<th>Total_Fruits</th>\n<th>Total_Meats</th>\n<th>Total_Seafood</th>\n<th>Total_Sweets</th>\n</tr>\n<tr>\n<td>1734336</td>\n<td>154139</td>\n<td>986946</td>\n<td>219967</td>\n<td>157502</td>\n</tr>\n</table>",
            "text/plain": "+-------------+--------------+-------------+---------------+--------------+\n| Total_Wines | Total_Fruits | Total_Meats | Total_Seafood | Total_Sweets |\n+-------------+--------------+-------------+---------------+--------------+\n| 1734336     | 154139       | 986946      | 219967        | 157502       |\n+-------------+--------------+-------------+---------------+--------------+"
          },
          "metadata": {}
        }
      ]
    },
    {
      "cell_type": "markdown",
      "source": "This query calculates the total number of unique customers:",
      "metadata": {}
    },
    {
      "cell_type": "code",
      "source": "SELECT COUNT(DISTINCT ID) AS Total_Customers\nFROM sales;",
      "metadata": {
        "trusted": true
      },
      "execution_count": 9,
      "outputs": [
        {
          "execution_count": 9,
          "output_type": "execute_result",
          "data": {
            "text/html": "<table>\n<tr>\n<th>Total_Customers</th>\n</tr>\n<tr>\n<td>2220</td>\n</tr>\n</table>",
            "text/plain": "+-----------------+\n| Total_Customers |\n+-----------------+\n| 2220            |\n+-----------------+"
          },
          "metadata": {}
        }
      ]
    },
    {
      "cell_type": "code",
      "source": "SELECT COUNT(DISTINCT ID) AS Total_Customers\nFROM sales;",
      "metadata": {
        "trusted": true
      },
      "execution_count": 10,
      "outputs": [
        {
          "execution_count": 10,
          "output_type": "execute_result",
          "data": {
            "text/html": "<table>\n<tr>\n<th>Total_Customers</th>\n</tr>\n<tr>\n<td>2220</td>\n</tr>\n</table>",
            "text/plain": "+-----------------+\n| Total_Customers |\n+-----------------+\n| 2220            |\n+-----------------+"
          },
          "metadata": {}
        }
      ]
    },
    {
      "cell_type": "markdown",
      "source": "This query calculates the average of days since the last purchase across all customers:",
      "metadata": {}
    },
    {
      "cell_type": "code",
      "source": "SELECT ROUND(AVG(Recency), 2) AS Average_Recency\nFROM sales;",
      "metadata": {
        "trusted": true
      },
      "execution_count": 11,
      "outputs": [
        {
          "execution_count": 11,
          "output_type": "execute_result",
          "data": {
            "text/html": "<table>\n<tr>\n<th>Average_Recency</th>\n</tr>\n<tr>\n<td>49.03</td>\n</tr>\n</table>",
            "text/plain": "+-----------------+\n| Average_Recency |\n+-----------------+\n| 49.03           |\n+-----------------+"
          },
          "metadata": {}
        }
      ]
    },
    {
      "cell_type": "markdown",
      "source": "Write a query to understand your data in the marketing table.",
      "metadata": {}
    },
    {
      "cell_type": "markdown",
      "source": "This query calculates the count of customers who made purchases based on each campaign:",
      "metadata": {}
    },
    {
      "cell_type": "code",
      "source": "SELECT\n    SUM(MC1) AS Purchased_in_Campaign_1,\n    SUM(MC2) AS Purchased_in_Campaign_2,\n    SUM(MC3) AS Purchased_in_Campaign_3,\n    SUM(MC4) AS Purchased_in_Campaign_4,\n    SUM(MC5) AS Purchased_in_Campaign_5\nFROM Marketing;",
      "metadata": {
        "trusted": true
      },
      "execution_count": 12,
      "outputs": [
        {
          "execution_count": 12,
          "output_type": "execute_result",
          "data": {
            "text/html": "<table>\n<tr>\n<th>Purchased_in_Campaign_1</th>\n<th>Purchased_in_Campaign_2</th>\n<th>Purchased_in_Campaign_3</th>\n<th>Purchased_in_Campaign_4</th>\n<th>Purchased_in_Campaign_5</th>\n</tr>\n<tr>\n<td>143</td>\n<td>30</td>\n<td>165</td>\n<td>165</td>\n<td>161</td>\n</tr>\n</table>",
            "text/plain": "+-------------------------+-------------------------+-------------------------+-------------------------+-------------------------+\n| Purchased_in_Campaign_1 | Purchased_in_Campaign_2 | Purchased_in_Campaign_3 | Purchased_in_Campaign_4 | Purchased_in_Campaign_5 |\n+-------------------------+-------------------------+-------------------------+-------------------------+-------------------------+\n| 143                     | 30                      | 165                     | 165                     | 161                     |\n+-------------------------+-------------------------+-------------------------+-------------------------+-------------------------+"
          },
          "metadata": {}
        }
      ]
    },
    {
      "cell_type": "markdown",
      "source": "This query calculates the count of customers who made purchases in any of the campaigns:",
      "metadata": {}
    },
    {
      "cell_type": "code",
      "source": "SELECT\n    SUM(MC1 + MC2 + MC3 + MC4 + MC5) AS Customers_With_Purchases\nFROM Marketing;",
      "metadata": {
        "trusted": true
      },
      "execution_count": 13,
      "outputs": [
        {
          "execution_count": 13,
          "output_type": "execute_result",
          "data": {
            "text/html": "<table>\n<tr>\n<th>Customers_With_Purchases</th>\n</tr>\n<tr>\n<td>664</td>\n</tr>\n</table>",
            "text/plain": "+--------------------------+\n| Customers_With_Purchases |\n+--------------------------+\n| 664                      |\n+--------------------------+"
          },
          "metadata": {}
        }
      ]
    },
    {
      "cell_type": "markdown",
      "source": "This query calculates the count of customers who did not make any purchases in the campaigns:",
      "metadata": {}
    },
    {
      "cell_type": "code",
      "source": "SELECT\n    COUNT(*) - SUM(MC1 + MC2 + MC3 + MC4 + MC5) AS Customers_Without_Purchases\nFROM Marketing;",
      "metadata": {
        "trusted": true
      },
      "execution_count": 14,
      "outputs": [
        {
          "execution_count": 14,
          "output_type": "execute_result",
          "data": {
            "text/html": "<table>\n<tr>\n<th>Customers_Without_Purchases</th>\n</tr>\n<tr>\n<td>1556</td>\n</tr>\n</table>",
            "text/plain": "+-----------------------------+\n| Customers_Without_Purchases |\n+-----------------------------+\n| 1556                        |\n+-----------------------------+"
          },
          "metadata": {}
        }
      ]
    },
    {
      "cell_type": "markdown",
      "source": "This query calculates the count of customers who made complaints:",
      "metadata": {}
    },
    {
      "cell_type": "code",
      "source": "SELECT\n    SUM(Complaint) AS Customers_With_Complaints\nFROM Marketing;",
      "metadata": {
        "trusted": true
      },
      "execution_count": 15,
      "outputs": [
        {
          "execution_count": 15,
          "output_type": "execute_result",
          "data": {
            "text/html": "<table>\n<tr>\n<th>Customers_With_Complaints</th>\n</tr>\n<tr>\n<td>20</td>\n</tr>\n</table>",
            "text/plain": "+---------------------------+\n| Customers_With_Complaints |\n+---------------------------+\n| 20                        |\n+---------------------------+"
          },
          "metadata": {}
        }
      ]
    },
    {
      "cell_type": "markdown",
      "source": "### Exercise 2\n\nQuery the database for the products that are purchased by customers based on marital status.\n\nSpecifically, join the customer and products tables and create a query for amount of wine (TotalWines) purchased by customers based on whether they are divorced or not.\n\nExpected output:\n\nDivorced\tTotalWines\n\n        0\t1538225\n        1\t196111\n",
      "metadata": {}
    },
    {
      "cell_type": "code",
      "source": "SELECT customer.divorced AS Divorced, SUM(sales.wines) AS TOTALWines\nFROM customer JOIN sales\nON customer.ID = sales.ID\nGROUP BY customer.divorced;",
      "metadata": {
        "trusted": true
      },
      "execution_count": 16,
      "outputs": [
        {
          "execution_count": 16,
          "output_type": "execute_result",
          "data": {
            "text/html": "<table>\n<tr>\n<th>Divorced</th>\n<th>TOTALWines</th>\n</tr>\n<tr>\n<td>0</td>\n<td>1538225</td>\n</tr>\n<tr>\n<td>1</td>\n<td>196111</td>\n</tr>\n</table>",
            "text/plain": "+----------+------------+\n| Divorced | TOTALWines |\n+----------+------------+\n| 0        | 1538225    |\n+----------+------------+\n| 1        | 196111     |\n+----------+------------+"
          },
          "metadata": {}
        }
      ]
    },
    {
      "cell_type": "markdown",
      "source": "### Exercise 3\n\nQuery the database to determine what type of customers purchase which products. Can you describe what are the types of customers, e.g. what is the customer persona or segment.\n\nSpecifically, create a query to find the total amount spent on sweets (TotalSweets) for customers who have education above the university level and who are not single.\n\nExpected output:\n\nMaster\tPhD\tTotalSweets\n\n    0\t1\t17683\n    1\t0\t15213\n\n",
      "metadata": {}
    },
    {
      "cell_type": "code",
      "source": "SELECT customer.master, customer.PhD, SUM(sales.Sweets) AS TotalSweets\nFROM sales\nJOIN customer ON sales.ID= customer.ID\nWHERE ((customer.Master = 1 or customer.PhD = 1)) AND customer.single != 1\nGROUP BY customer.Master, customer.PhD;",
      "metadata": {
        "trusted": true
      },
      "execution_count": 17,
      "outputs": [
        {
          "execution_count": 17,
          "output_type": "execute_result",
          "data": {
            "text/html": "<table>\n<tr>\n<th>Master</th>\n<th>PhD</th>\n<th>TotalSweets</th>\n</tr>\n<tr>\n<td>0</td>\n<td>1</td>\n<td>17683</td>\n</tr>\n<tr>\n<td>1</td>\n<td>0</td>\n<td>15213</td>\n</tr>\n</table>",
            "text/plain": "+--------+-----+-------------+\n| Master | PhD | TotalSweets |\n+--------+-----+-------------+\n| 0      | 1   | 17683       |\n+--------+-----+-------------+\n| 1      | 0   | 15213       |\n+--------+-----+-------------+"
          },
          "metadata": {}
        }
      ]
    },
    {
      "cell_type": "markdown",
      "source": "### Exercise 4\n\nQuery your database to discover which products bring in the most revenues for different customer segments.\n\nSpecifically, create a query to find the average age (AveAge) and average income (AveIncome) of customers from California along with their total sales for meats (TotalMeats) and seafood (TotalSeafood).\n\nExpected output:\n\nAveAge:  50.30810810810811\n\nAveIncome:  152234.3135135135\n\nTotalMeats:  147089\n\nTotalSeafood:  40222\n",
      "metadata": {}
    },
    {
      "cell_type": "code",
      "source": "SELECT AVG(customer.age) AS AveAge,AVG(customer.income) AS AveIncome, SUM(sales.meats) AS TotalMeats, SUM(sales.seafood) AS TotalSeafood\nFROM customer JOIN sales\nON customer.ID = sales.ID\nWHERE customer.state = \"State-California\"",
      "metadata": {
        "trusted": true
      },
      "execution_count": 18,
      "outputs": [
        {
          "execution_count": 18,
          "output_type": "execute_result",
          "data": {
            "text/html": "<table>\n<tr>\n<th>AveAge</th>\n<th>AveIncome</th>\n<th>TotalMeats</th>\n<th>TotalSeafood</th>\n</tr>\n<tr>\n<td>50.3081081081081</td>\n<td>152234.313513514</td>\n<td>147089</td>\n<td>40222</td>\n</tr>\n</table>",
            "text/plain": "+------------------+------------------+------------+--------------+\n| AveAge           | AveIncome        | TotalMeats | TotalSeafood |\n+------------------+------------------+------------+--------------+\n| 50.3081081081081 | 152234.313513514 | 147089     | 40222        |\n+------------------+------------------+------------+--------------+"
          },
          "metadata": {}
        }
      ]
    },
    {
      "cell_type": "markdown",
      "source": "## SQL Bonus Question (Optional)\n\n### Exercise 5\n\nCreate one query that outputs the total sales from premium products and the average income of customers for customers over the age of 50 who participated in marketing campaign 5. \n\nHint: use two inner joins\n\nExpected output:\n\nTotalPremium:  12077\n\nAveIncome:  181205.7972972973",
      "metadata": {}
    },
    {
      "cell_type": "code",
      "source": "SELECT SUM(sales.premium) AS TotalPremium, AVG(customer.income) AS AveIncome\nFROM sales\nJOIN customer ON sales.id = customer.id\nJOIN marketing ON marketing.ID = customer.ID\nWHERE customer.age > 50 \nAND MC5 = 1;",
      "metadata": {
        "trusted": true
      },
      "execution_count": 19,
      "outputs": [
        {
          "execution_count": 19,
          "output_type": "execute_result",
          "data": {
            "text/html": "<table>\n<tr>\n<th>TotalPremium</th>\n<th>AveIncome</th>\n</tr>\n<tr>\n<td>12077</td>\n<td>181205.797297297</td>\n</tr>\n</table>",
            "text/plain": "+--------------+------------------+\n| TotalPremium | AveIncome        |\n+--------------+------------------+\n| 12077        | 181205.797297297 |\n+--------------+------------------+"
          },
          "metadata": {}
        }
      ]
    },
    {
      "cell_type": "markdown",
      "source": "### Your Analysis\n\nThis ends the directed part of the analysis. Be sure to continue your own analysis below, adding code and markdown cells as needed.",
      "metadata": {
        "tags": []
      }
    },
    {
      "cell_type": "markdown",
      "source": "Q1:\n\n1.1 Average Amount Spent on Each Product Category:\n\nSELECT\n    ROUND(AVG(Wines), 2) AS Average_Wines,\n    ROUND(AVG(Fruits), 2) AS Average_Fruits,\n    ROUND(AVG(Meats), 2) AS Average_Meats,\n    ROUND(AVG(Seafood), 2) AS Average_Seafood,\n    ROUND(AVG(Sweets), 2) AS Average_Sweets\nFROM sales;\n\nThis query calculates and rounds the average spending on five different product categories: Wines, Fruits, Meats, Seafood, and Sweets.\nIt provides insights into the average customer spending patterns, with the highest average spending on Wines $781.23 and the lowest on Fruits $69.43.\n\n1.2 Total Amount Spent on Each Product Category:\n\nSELECT\n    SUM(Wines) AS Total_Wines,\n    SUM(Fruits) AS Total_Fruits,\n    SUM(Meats) AS Total_Meats,\n    SUM(Seafood) AS Total_Seafood,\n    SUM(Sweets) AS Total_Sweets,\nFROM sales;\n\nThis query calculates the total spending on the same product categories: Wines, Fruits, Meats, Seafood, Sweets.\nIt gives an overview of the overall revenue generated from each product category. Overall, it seems that wines, meats, and seafood are the most significant categories in terms of expenditure, while fruits and sweets have relatively lower spending. \n\n1.3 Total Number of Unique Customers:\n\nSELECT COUNT(DISTINCT ID) AS Total_Customers\nFROM sales;\n\nThis query counts the total number of unique customers by using the DISTINCT clause on the \"ID\" column.\nThere are 2,220 unique customers in the dataset.\n \n\n1.4 Average Days Since the Last Purchase:\n\nSELECT ROUND(AVG(Recency), 2) AS Average_Recency\nFROM sales;\n\nThis query calculates the average number of days since the last purchase across all customers.\nThe average recency is approximately 49.03 days, which can be interpreted as the average gap between purchases for the customer base.\n\n1.5 Count of Customers Who Made Purchases Based on Each Campaign:\n\nSELECT\n    SUM(MC1) AS Purchased_in_Campaign_1,\n    SUM(MC2) AS Purchased_in_Campaign_2,\n    SUM(MC3) AS Purchased_in_Campaign_3,\n    SUM(MC4) AS Purchased_in_Campaign_4,\n    SUM(MC5) AS Purchased_in_Campaign_5\nFROM Marketing;\n\n\nThis query sums up the number of customers who made purchases in each marketing campaign.\nIt provides campaign-specific insights into customer engagement, with varying levels of participation in different campaigns.The campaign analysis demonstrates notable variations in their effectiveness. Campaigns 3 and 4 achieved significant success with 165 purchases each, suggesting well-executed strategies or enticing offers. Campaign 5 also showed promise with 161 purchases, indicating its potential. On the other hand, Campaign 1, with 143 purchases, performed moderately, while Campaign 2 lagged significantly behind with only 30 purchases, indicating the need for further evaluation and adjustment of its approach. \n\n\n1.6 Count of Customers Who Made Purchases in Any Campaign:\n\nSELECT\n    SUM(MC1 + MC2 + MC3 + MC4 + MC5) AS Customers_With_Purchases\nFROM Marketing;\n\nThis query calculates the count of customers who made purchases in at least one campaign.\nThere are 664 customers who engaged with the marketing campaigns by making purchases.\n\n1.7 Count of Customers Who Did Not Make Any Purchases in the Campaigns:\n\nSELECT\n    COUNT(*) - SUM(MC1 + MC2 + MC3 + MC4 + MC5) AS Customers_Without_Purchases\nFROM Marketing;\n\nThis query calculates the count of customers who did not make any purchases in any of the campaigns.\nThere are 1,556 customers who did not participate in any of the campaigns by making purchases.\n\n1.8 Count of Customers Who Made Complaints:\n\nSELECT\n    SUM(Complaint) AS Customers_With_Complaints\nFROM Marketing;\n\nThis query sums up the number of customers who made complaints.\nThere are 20 customers who raised complaints.\n\n\nQ2.\n\nSELECT: specifies the columns to be included in the result set. It selects two columns:   customer.divorced AS Divorced: This column alias renames the \"divorced\" column from the \"customer\" table as \"Divorced\" in the result set and SUM (sales.wines) AS TOTALWines: This column calculates the total sum of wine purchases from the \"sales\" table and assigns the alias \"TOTALWines\" to this calculated value. \nFROM: specifies the tables involved in the query and their relationships. It joins two tables, customer: This table is a list of customers. sales: This table contains information about sales transactions.\nJOIN: defined by ON customer.ID = sales.ID, indicating that the query matches records where the \"ID\" in the \"customer\" table matches the \"ID\" in the \"sales\" table. \nGROUP BY: used to group the results based on a specific column.In this case, the query groups the results by the \"divorced\" column from the \"customer\" table. This means that the query will produce separate rows for each unique value in the \"divorced\" column. \n\nCustomers who are not divorced (\"Divorced=0\") have a significantly higher total wine purchase of 1,538,225 units compared to customers who are divorced (\"Divorced=1\"), who have a total wine purchase of 196,111 units. This suggests that customers who are not divorced may have a greater affinity for wine or make more frequent wine purchases.\n\n\nQ3.SELECT :specifies the columns to be included in the result set. It selects three columns, customer.master: this column represents whether a customer has a master's degree, customer.phd: this column represents whether a customer has a PhD,SUM(sales.sweets) AS TotalSweets: This column calculates the total sum of \"sweets\" purchases from the \"sales\" table and assigns the alias \"TotalSweets\" to this calculated value\nFROM: specifies the table involved It selects the \"sales\" table, which contains information about sales transactions\nJOIN:used to join the \"sales\" table with the \"customer\" table based on a common column, which is the \"ID\" column in both tables. WHERE :filters the rows from the joined tables. It filters rows where the \"customer.single\" column equals 1. This represents customers who are single.\nGROUP BY:used to group the results based on the \"customer.master\" and \"customer.phd\" columns from the \"customer\" table. this means that the query will produce separate rows for each unique combination of values in these two columns. \n\nCustomers with a Master's degree have a total sweets purchase (\"TotalSweets\") of 17,683 units and customers with a PhD have a total sweets purchase of 15,213 units. We can notice Master's degrees, shows a higher total sweets purchase and customers with PhDs also purchases sweets, although their total purchases are slightly lower than the Master's degree segment.\n\n    \nQ4.SELECT: specifies the columns to be included in the result set. It selects three columns with calculated values: \n    AVG(customer.age) AS AveAge: This calculates the average age of customers in California and assigns the alias \"AveAge\" to this value. \n    AVG(customer.income) AS AveIncome: This calculates the average income of customers in California and assigns the alias \"AveIncome\" to this value. SUM(sales.meats) AS TotalMeat: This calculates the total sum of meat purchases from the \"sales\" table for customers in California and assigns the alias \"TotalMeat\" to this calculated value. \nFROM:specifies the tables involved in the query. It selects the \"customer\" table, which contains customer information, and the \"sales\" table, which contains sales transaction data. \nJOIN: used to join the \"customer\" and \"sales\" tables based on a common column, which is the \"ID\" column in both tables. This links customer data to their sales transactions. \nWHERE: filters the rows from the joined tables. It filters rows where the \"customer.state\" column equals \"State-California.\" This ensures that only data related to customers from California is considered in the calculations. This SQL query calculates and presents an analysis of customers in California. It provides the average age and average income of customers in the state, along with the total sum of meat purchases made by these customers. The result set will contain three columns: \"AveAge\" (average age), \"AveIncome\" (average income), and \"TotalMeat\" (total meat purchases) for customers in California. \n\nOn average, customers are around 50 years old and have a relatively high average income of approximately $152,234.31, meat products are quite popular among California customers, with total sales reaching 147,089 units, while seafood sales also contribute significantly, totaling 40,222 units.\n\nQ5.SELECT: specifies the columns to be included in the result set. It selects two columns with calculated values: SUM(sales.premium) AS TotalPremium: This calculates the total sum of \"premium\" values from the \"sales\" table and assigns the alias \"TotalPremium\" to this calculated value. AVG(customer.income) AS AveIncome: This calculates the average income of customers and assigns the alias \"AveIncome\" to this value.\nFROM: specifies the tables involved in the query. It selects the \"sales\" table, the \"customer\" table, and the \"marketing\" table. \nJOIN: Two JOIN clauses are used to join the tables based on common columns: JOIN customer ON sales.id = customer.id: This joins the \"sales\" and \"customer\" tables based on the \"id\" column, are linking sales transactions to customer information. JOIN marketing ON marketing.ID = customer.ID: This joins the \"marketing\" and \"customer\" tables based on the \"ID\" column, likely linking marketing data to customer information. \nWHERE: filters the rows from the joined tables based on specified conditions.  customer.age > 50: This condition filters customers with an age greater than 50. MC5 = 1: This condition filters records where the \"MC5\" column equals 1.\n\n\nThe results reveal that customers over the age of 50 who participated in marketing campaign 5 generated a total of 12,077 units in sales from premium products, with an impressive average income of approximately $181,205.80. These insights suggest the effectiveness of targeting specific age groups within marketing campaigns and emphasize the significance of premium product sales within this demographic.",
      "metadata": {}
    },
    {
      "cell_type": "markdown",
      "source": "## Final Analysis Specialty Foods Inc.\n\nFor Specialty Foods Inc., the data analysis provides valuable insights into customer spending patterns, campaign effectiveness, and customer demographics. The company observes that wines are the highest-selling category, with an average spending of $781.23, while fruits have the lowest average spending at $69.43. Meats and seafood are significant categories for expenditure, whereas fruits and sweets have relatively lower spending levels. With a customer base of 2,220 unique customers, Specialty Foods Inc. can leverage this information to tailor marketing strategies.\n\nThe analysis of marketing campaigns reveals varying success rates. Campaigns 3 and 4 are the most successful, each generating 165 purchases, suggesting well-executed strategies. Campaign 5 also shows promise with 161 purchases, while Campaign 1 performs moderately, and Campaign 2 requires further evaluation and adjustment.\n\nThe average recency of approximately 49.03 days signifies the average gap between customer purchases. Of the 2,220 customers, 664 engaged with the marketing campaigns by making purchases, while 1,556 did not participate in any of the campaigns. Additionally, 20 customers raised complaints, indicating a need for customer service improvements.\n\nDemographically, customers who are not divorced tend to have significantly higher wine purchases compared to divorced customers, implying different preferences. Customers with Master's degrees and PhDs show interest in sweets, with Master's degree holders making slightly higher total purchases.\n\nOn average, customers are around 50 years old with a relatively high average income of approximately $152,234.31. Meat products are popular among California customers, with total sales of 147,089 units, while seafood also contributes significantly at 40,222 units.\n\nFurthermore, customers over the age of 50 participating in marketing campaign 5 generated substantial sales of premium products, emphasizing the effectiveness of targeting specific age groups within campaigns. These insights provide Specialty Foods Inc. with valuable information for refining marketing strategies and product offerings to maximize profitability and customer satisfaction.\n\n",
      "metadata": {}
    },
    {
      "cell_type": "markdown",
      "source": "Tableu Link: https://public.tableau.com/views/MiniProject4_16945282964260/SpecialtyFoodsInc_DashboardIncomeOverview?:language=en-US&publish=yes&:display_count=n&:origin=viz_share_link",
      "metadata": {}
    }
  ]
}